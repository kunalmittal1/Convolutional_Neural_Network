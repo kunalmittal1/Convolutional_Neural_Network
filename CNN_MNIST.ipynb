{
  "cells": [
    {
      "cell_type": "code",
      "execution_count": null,
      "metadata": {
        "id": "UTRs9nl-RHTw"
      },
      "outputs": [],
      "source": [
        "import numpy as np\n",
        "from tensorflow import keras\n",
        "from tensorflow.keras import layers"
      ]
    },
    {
      "cell_type": "code",
      "execution_count": null,
      "metadata": {
        "colab": {
          "base_uri": "https://localhost:8080/"
        },
        "id": "0xi4h7jzRXJi",
        "outputId": "72b804f8-322d-42d2-c7f9-8131d857a694"
      },
      "outputs": [
        {
          "output_type": "stream",
          "name": "stdout",
          "text": [
            "Downloading data from https://storage.googleapis.com/tensorflow/tf-keras-datasets/mnist.npz\n",
            "11493376/11490434 [==============================] - 0s 0us/step\n",
            "11501568/11490434 [==============================] - 0s 0us/step\n",
            "x_train shape: (60000, 28, 28, 1)\n",
            "60000 train samples\n",
            "10000 test samples\n"
          ]
        }
      ],
      "source": [
        "# Model / data parameters\n",
        "num_classes = 10\n",
        "input_shape = (28, 28, 1)\n",
        "\n",
        "# the data, split between train and test sets\n",
        "(x_train, y_train), (x_test, y_test) = keras.datasets.mnist.load_data()\n",
        "\n",
        "# Scale images to the [0, 1] range\n",
        "x_train = x_train.astype(\"float32\") / 255\n",
        "x_test = x_test.astype(\"float32\") / 255\n",
        "# Make sure images have shape (28, 28, 1)\n",
        "x_train = np.expand_dims(x_train, -1)\n",
        "x_test = np.expand_dims(x_test, -1)\n",
        "print(\"x_train shape:\", x_train.shape)\n",
        "print(x_train.shape[0], \"train samples\")\n",
        "print(x_test.shape[0], \"test samples\")\n",
        "\n",
        "\n",
        "# convert class vectors to binary class matrices\n",
        "y_train = keras.utils.to_categorical(y_train, num_classes)\n",
        "y_test = keras.utils.to_categorical(y_test, num_classes)"
      ]
    },
    {
      "cell_type": "code",
      "execution_count": null,
      "metadata": {
        "colab": {
          "base_uri": "https://localhost:8080/"
        },
        "id": "5VutrxFFRag6",
        "outputId": "37261bd7-d38d-495b-d738-c9710af6d16d"
      },
      "outputs": [
        {
          "output_type": "stream",
          "name": "stdout",
          "text": [
            "Model: \"sequential\"\n",
            "_________________________________________________________________\n",
            " Layer (type)                Output Shape              Param #   \n",
            "=================================================================\n",
            " conv2d (Conv2D)             (None, 26, 26, 32)        320       \n",
            "                                                                 \n",
            " max_pooling2d (MaxPooling2D  (None, 13, 13, 32)       0         \n",
            " )                                                               \n",
            "                                                                 \n",
            " conv2d_1 (Conv2D)           (None, 11, 11, 64)        18496     \n",
            "                                                                 \n",
            " max_pooling2d_1 (MaxPooling  (None, 5, 5, 64)         0         \n",
            " 2D)                                                             \n",
            "                                                                 \n",
            " flatten (Flatten)           (None, 1600)              0         \n",
            "                                                                 \n",
            " dropout (Dropout)           (None, 1600)              0         \n",
            "                                                                 \n",
            " dense (Dense)               (None, 10)                16010     \n",
            "                                                                 \n",
            "=================================================================\n",
            "Total params: 34,826\n",
            "Trainable params: 34,826\n",
            "Non-trainable params: 0\n",
            "_________________________________________________________________\n"
          ]
        }
      ],
      "source": [
        "model = keras.Sequential(\n",
        "    [\n",
        "        keras.Input(shape=input_shape),\n",
        "        layers.Conv2D(32, kernel_size=(3, 3), activation=\"relu\"),\n",
        "        layers.MaxPooling2D(pool_size=(2, 2)),\n",
        "        layers.Conv2D(64, kernel_size=(3, 3), activation=\"relu\"),\n",
        "        layers.MaxPooling2D(pool_size=(2, 2)),\n",
        "        layers.Flatten(),\n",
        "        layers.Dropout(0.5),\n",
        "        layers.Dense(num_classes, activation=\"softmax\"),\n",
        "    ]\n",
        ")\n",
        "\n",
        "model.summary()"
      ]
    },
    {
      "cell_type": "code",
      "execution_count": null,
      "metadata": {
        "colab": {
          "base_uri": "https://localhost:8080/"
        },
        "id": "54DECNWJRqGF",
        "outputId": "69b68ef1-d753-47c0-8e84-b968dacfd47e"
      },
      "outputs": [
        {
          "output_type": "stream",
          "name": "stdout",
          "text": [
            "Epoch 1/15\n",
            "422/422 [==============================] - 13s 6ms/step - loss: 0.3632 - accuracy: 0.8871 - val_loss: 0.0793 - val_accuracy: 0.9788\n",
            "Epoch 2/15\n",
            "422/422 [==============================] - 2s 5ms/step - loss: 0.1138 - accuracy: 0.9652 - val_loss: 0.0572 - val_accuracy: 0.9847\n",
            "Epoch 3/15\n",
            "422/422 [==============================] - 2s 5ms/step - loss: 0.0847 - accuracy: 0.9739 - val_loss: 0.0531 - val_accuracy: 0.9848\n",
            "Epoch 4/15\n",
            "422/422 [==============================] - 2s 5ms/step - loss: 0.0717 - accuracy: 0.9778 - val_loss: 0.0448 - val_accuracy: 0.9875\n",
            "Epoch 5/15\n",
            "422/422 [==============================] - 2s 5ms/step - loss: 0.0618 - accuracy: 0.9805 - val_loss: 0.0421 - val_accuracy: 0.9883\n",
            "Epoch 6/15\n",
            "422/422 [==============================] - 2s 5ms/step - loss: 0.0581 - accuracy: 0.9824 - val_loss: 0.0406 - val_accuracy: 0.9882\n",
            "Epoch 7/15\n",
            "422/422 [==============================] - 2s 5ms/step - loss: 0.0508 - accuracy: 0.9841 - val_loss: 0.0384 - val_accuracy: 0.9885\n",
            "Epoch 8/15\n",
            "422/422 [==============================] - 2s 5ms/step - loss: 0.0479 - accuracy: 0.9849 - val_loss: 0.0334 - val_accuracy: 0.9910\n",
            "Epoch 9/15\n",
            "422/422 [==============================] - 2s 5ms/step - loss: 0.0442 - accuracy: 0.9864 - val_loss: 0.0344 - val_accuracy: 0.9897\n",
            "Epoch 10/15\n",
            "422/422 [==============================] - 2s 5ms/step - loss: 0.0417 - accuracy: 0.9864 - val_loss: 0.0326 - val_accuracy: 0.9917\n",
            "Epoch 11/15\n",
            "422/422 [==============================] - 2s 5ms/step - loss: 0.0399 - accuracy: 0.9870 - val_loss: 0.0298 - val_accuracy: 0.9915\n",
            "Epoch 12/15\n",
            "422/422 [==============================] - 2s 5ms/step - loss: 0.0388 - accuracy: 0.9878 - val_loss: 0.0285 - val_accuracy: 0.9920\n",
            "Epoch 13/15\n",
            "422/422 [==============================] - 2s 5ms/step - loss: 0.0361 - accuracy: 0.9884 - val_loss: 0.0289 - val_accuracy: 0.9925\n",
            "Epoch 14/15\n",
            "422/422 [==============================] - 2s 5ms/step - loss: 0.0344 - accuracy: 0.9884 - val_loss: 0.0319 - val_accuracy: 0.9913\n",
            "Epoch 15/15\n",
            "422/422 [==============================] - 2s 5ms/step - loss: 0.0328 - accuracy: 0.9890 - val_loss: 0.0299 - val_accuracy: 0.9910\n"
          ]
        },
        {
          "output_type": "execute_result",
          "data": {
            "text/plain": [
              "<keras.callbacks.History at 0x7f31a03dacd0>"
            ]
          },
          "metadata": {},
          "execution_count": 4
        }
      ],
      "source": [
        "batch_size = 128\n",
        "epochs = 15\n",
        "\n",
        "model.compile(loss=\"categorical_crossentropy\", optimizer=\"adam\", metrics=[\"accuracy\"])\n",
        "\n",
        "model.fit(x_train, y_train, batch_size=batch_size, epochs=epochs, validation_split=0.1)"
      ]
    },
    {
      "cell_type": "code",
      "execution_count": null,
      "metadata": {
        "colab": {
          "base_uri": "https://localhost:8080/"
        },
        "id": "NSbIMt7jTSQ4",
        "outputId": "5f7aab2a-e7e1-4602-afac-9166b41846be"
      },
      "outputs": [
        {
          "output_type": "stream",
          "name": "stdout",
          "text": [
            "Test loss: 0.029011182487010956\n",
            "Test accuracy: 0.9908000230789185\n"
          ]
        }
      ],
      "source": [
        "score = model.evaluate(x_test, y_test, verbose=0)\n",
        "print(\"Test loss:\", score[0])\n",
        "print(\"Test accuracy:\", score[1])"
      ]
    }
  ],
  "metadata": {
    "accelerator": "GPU",
    "colab": {
      "name": "CNN MNIST",
      "provenance": []
    },
    "kernelspec": {
      "display_name": "Python 3",
      "name": "python3"
    },
    "language_info": {
      "name": "python"
    }
  },
  "nbformat": 4,
  "nbformat_minor": 0
}